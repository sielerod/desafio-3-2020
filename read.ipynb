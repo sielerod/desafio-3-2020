{
 "metadata": {
  "language_info": {
   "codemirror_mode": {
    "name": "ipython",
    "version": 3
   },
   "file_extension": ".py",
   "mimetype": "text/x-python",
   "name": "python",
   "nbconvert_exporter": "python",
   "pygments_lexer": "ipython3",
   "version": 3
  },
  "orig_nbformat": 2
 },
 "nbformat": 4,
 "nbformat_minor": 2,
 "cells": [
  {
   "cell_type": "code",
   "execution_count": null,
   "metadata": {},
   "outputs": [],
   "source": [
    "import re\n"
   ]
  },
  {
   "cell_type": "code",
   "execution_count": null,
   "metadata": {},
   "outputs": [],
   "source": [
    "def get_ted(url):\n",
    "    if \"ted\" not in str(url):\n",
    "        raise Exception(\"URL Inválida\")\n",
    "\n",
    "    response = requests.get(url)\n",
    "    soup = BeautifulSoup(response.content, features=\"lxml\")\n",
    "    transcript = soup(\"div\", {\"class\":\"Grid Grid--with-gutter d:f@md p-b:4\"})\n",
    "    texts = []\n",
    "    for div in transcript:\n",
    "        text = div(\"p\")[0].text\n",
    "        text = text.strip()\n",
    "        text = text.replace(\"\\n\", \" \")\n",
    "        text = text.replace(\"\\t\", \" \")\n",
    "        text = re.sub(' +', ' ', text)\n",
    "        texts.append(text)\n",
    "\n",
    "    title_author = soup.title.text\n",
    "    author = title_author.split(\":\")[0].strip()\n",
    "    title = title_author.split(\":\")[1].split(\"|\")[0].strip()\n",
    "    return {\n",
    "    \"author\": author,\n",
    "    \"body\": \" \".join(texts),\n",
    "    \"title\": title,\n",
    "    \"type\": \"video\",\n",
    "    \"url\": url\n",
    "    }"
   ]
  },
  {
   "cell_type": "code",
   "execution_count": null,
   "metadata": {},
   "outputs": [],
   "source": [
    "def get_text_startse(url):\n",
    "  if \"startse\" not in str(url):\n",
    "    raise Exception(\"URL Inválida\")\n",
    "\n",
    "  response = requests.get(url)\n",
    "  soup = BeautifulSoup(response.content)\n",
    "  transcript = soup(\"span\", {\"style\":\"font-weight: 400;\"})\n",
    "  texts = []\n",
    "  for span in transcript:\n",
    "    text = p.text\n",
    "    text = text.strip()\n",
    "    text = text.replace(\"\\n\", \" \")\n",
    "    text = text.replace(\"\\t\", \" \")\n",
    "    text = re.sub(' +', ' ', text)\n",
    "    texts.append(text)\n",
    "  \n",
    "  author = soup(\"div\", {\"class\":\"title-single__info\"})[0](\"h4\")[0](\"a\")[0].text\n",
    "  title = soup(\"div\", {\"class\":\"title-single__title\"})[0](\"h2\")[0].text\n",
    "  return {\n",
    "    \"author\": author,\n",
    "    \"body\": \" \".join(texts),\n",
    "    \"title\": title,\n",
    "    \"type\": \"article\",\n",
    "    \"url\": url\n",
    "  }"
   ]
  }
 ]
}